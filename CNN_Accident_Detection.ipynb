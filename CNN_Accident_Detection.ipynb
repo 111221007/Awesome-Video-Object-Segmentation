{
  "metadata": {
    "kernelspec": {
      "language": "python",
      "display_name": "Python 3",
      "name": "python3"
    },
    "language_info": {
      "pygments_lexer": "ipython3",
      "nbconvert_exporter": "python",
      "version": "3.6.4",
      "file_extension": ".py",
      "codemirror_mode": {
        "name": "ipython",
        "version": 3
      },
      "name": "python",
      "mimetype": "text/x-python"
    },
    "colab": {
      "name": "CNN Accident Detection ~91% Accuracy",
      "provenance": [],
      "include_colab_link": true
    }
  },
  "nbformat_minor": 0,
  "nbformat": 4,
  "cells": [
    {
      "cell_type": "markdown",
      "metadata": {
        "id": "view-in-github",
        "colab_type": "text"
      },
      "source": [
        "<a href=\"https://colab.research.google.com/github/111221007/Awesome-Video-Object-Segmentation/blob/master/CNN_Accident_Detection.ipynb\" target=\"_parent\"><img src=\"https://colab.research.google.com/assets/colab-badge.svg\" alt=\"Open In Colab\"/></a>"
      ]
    },
    {
      "source": [
        "# IMPORTANT: RUN THIS CELL IN ORDER TO IMPORT YOUR KAGGLE DATA SOURCES,\n",
        "# THEN FEEL FREE TO DELETE THIS CELL.\n",
        "# NOTE: THIS NOTEBOOK ENVIRONMENT DIFFERS FROM KAGGLE'S PYTHON\n",
        "# ENVIRONMENT SO THERE MAY BE MISSING LIBRARIES USED BY YOUR\n",
        "# NOTEBOOK.\n",
        "import kagglehub\n",
        "ckay16_accident_detection_from_cctv_footage_path = kagglehub.dataset_download('ckay16/accident-detection-from-cctv-footage')\n",
        "fahaddalwai_cctvfootagevideo_path = kagglehub.dataset_download('fahaddalwai/cctvfootagevideo')\n",
        "\n",
        "print('Data source import complete.')\n"
      ],
      "metadata": {
        "id": "BPfXo_Ydu665"
      },
      "cell_type": "code",
      "outputs": [],
      "execution_count": null
    },
    {
      "cell_type": "code",
      "source": [
        "# This Python 3 environment comes with many helpful analytics libraries installed\n",
        "# It is defined by the kaggle/python Docker image: https://github.com/kaggle/docker-python\n",
        "# For example, here's several helpful packages to load\n",
        "import cv2\n",
        "import numpy as np # linear algebra\n",
        "import pandas as pd # data processing, CSV file I/O (e.g. pd.read_csv)\n",
        "import matplotlib.pyplot as plt\n",
        "import tensorflow as tf\n",
        "from tensorflow.keras import layers"
      ],
      "metadata": {
        "_uuid": "8f2839f25d086af736a60e9eeb907d3b93b6e0e5",
        "_cell_guid": "b1076dfc-b9ad-4769-8c92-a6c4dae69d19",
        "execution": {
          "iopub.status.busy": "2023-04-05T11:54:33.765337Z",
          "iopub.execute_input": "2023-04-05T11:54:33.76647Z",
          "iopub.status.idle": "2023-04-05T11:54:41.196831Z",
          "shell.execute_reply.started": "2023-04-05T11:54:33.766357Z",
          "shell.execute_reply": "2023-04-05T11:54:41.195751Z"
        },
        "trusted": true,
        "id": "r4kZdRaqu668"
      },
      "execution_count": null,
      "outputs": []
    },
    {
      "cell_type": "markdown",
      "source": [
        "# Setting up our Data  \n",
        "Before we begin with creating and training our model, we will first set the size of the batches for our training, as well as the image height and width to set for our model"
      ],
      "metadata": {
        "id": "cPd2njJUu668"
      }
    },
    {
      "cell_type": "code",
      "source": [
        "batch_size = 100\n",
        "img_height = 250\n",
        "img_width = 250"
      ],
      "metadata": {
        "execution": {
          "iopub.status.busy": "2023-04-05T11:54:41.19896Z",
          "iopub.execute_input": "2023-04-05T11:54:41.199676Z",
          "iopub.status.idle": "2023-04-05T11:54:41.207234Z",
          "shell.execute_reply.started": "2023-04-05T11:54:41.199642Z",
          "shell.execute_reply": "2023-04-05T11:54:41.206092Z"
        },
        "trusted": true,
        "id": "PAKXW3H4u669"
      },
      "execution_count": null,
      "outputs": []
    },
    {
      "cell_type": "markdown",
      "source": [
        "The dataset that we are using has 3 different folders, and each of these have 2 folders within them having a folder for accident images and non accident images. Do look and scroll through them to verify and see the structure.  \n",
        "In order to get our:  \n",
        "1. train,\n",
        "2. test\n",
        "3. and validation split,  \n",
        "\n",
        "we will use keras's inbuilt *image_dataset_from_directory()* function which is able to generate a tf dataset containing the images as well as their corresponding classes from the folder that we pass into the parameter."
      ],
      "metadata": {
        "id": "UyirGafRu669"
      }
    },
    {
      "cell_type": "code",
      "source": [
        "training_ds = tf.keras.preprocessing.image_dataset_from_directory(\n",
        "    '/kaggle/input/accident-detection-from-cctv-footage/data/train',\n",
        "    seed=101,\n",
        "    image_size= (img_height, img_width),\n",
        "    batch_size=batch_size\n",
        "\n",
        ")\n",
        "\n",
        "testing_ds = tf.keras.preprocessing.image_dataset_from_directory(\n",
        "    '/kaggle/input/accident-detection-from-cctv-footage/data/test',\n",
        "    seed=101,\n",
        "    image_size= (img_height, img_width),\n",
        "    batch_size=batch_size)\n",
        "\n",
        "validation_ds =  tf.keras.preprocessing.image_dataset_from_directory(\n",
        "    '/kaggle/input/accident-detection-from-cctv-footage/data/val',\n",
        "    seed=101,\n",
        "    image_size= (img_height, img_width),\n",
        "    batch_size=batch_size)"
      ],
      "metadata": {
        "execution": {
          "iopub.status.busy": "2023-04-05T11:54:41.208925Z",
          "iopub.execute_input": "2023-04-05T11:54:41.210363Z",
          "iopub.status.idle": "2023-04-05T11:54:44.141991Z",
          "shell.execute_reply.started": "2023-04-05T11:54:41.210322Z",
          "shell.execute_reply": "2023-04-05T11:54:44.141039Z"
        },
        "trusted": true,
        "id": "rMWa5uiru66-"
      },
      "execution_count": null,
      "outputs": []
    },
    {
      "cell_type": "markdown",
      "source": [
        "Notice the output reading the files as well as the classes it recognises!  \n",
        "Now, we'll set up a few performace parameters that will enhance runtime training of our model. I've learnt to use this from [this excellent notebook here](https://www.kaggle.com/code/vanvalkenberg/cnn-for-accident-detection-83-val-accuracy/notebook), so do check that out as well!"
      ],
      "metadata": {
        "id": "h0RIWnBHu66-"
      }
    },
    {
      "cell_type": "code",
      "source": [
        "class_names = training_ds.class_names\n",
        "\n",
        "## Configuring dataset for performance\n",
        "AUTOTUNE = tf.data.experimental.AUTOTUNE\n",
        "training_ds = training_ds.cache().prefetch(buffer_size=AUTOTUNE)\n",
        "testing_ds = testing_ds.cache().prefetch(buffer_size=AUTOTUNE)"
      ],
      "metadata": {
        "execution": {
          "iopub.status.busy": "2023-04-05T11:54:44.144793Z",
          "iopub.execute_input": "2023-04-05T11:54:44.145195Z",
          "iopub.status.idle": "2023-04-05T11:54:44.152407Z",
          "shell.execute_reply.started": "2023-04-05T11:54:44.145148Z",
          "shell.execute_reply": "2023-04-05T11:54:44.151433Z"
        },
        "trusted": true,
        "id": "GOeUiBjfu66-"
      },
      "execution_count": null,
      "outputs": []
    },
    {
      "cell_type": "markdown",
      "source": [
        "# Defining our Pre-Trained Model  \n",
        "The next step is defining and creating our model. In order to increase accuracy and speed up training process, we'll go ahead and use a pre trained model for this task. Why you may ask?  This is because a pretrained convnet already has a very good idea of what features to look for in an image and can find them very effectively since it hs been trained on millions of images. So, if we can determine the presence of features all the rest of the model needs to do is determine which combination of features makes a specific image.  \n",
        "So all we've to do is:\n",
        "1. Define the base pretrained layer\n",
        "2. Add final few layers that are specific to our function and task to enhance ability in those categories\n",
        "3. Train our model!  \n",
        "Lets use Googles MobileNetV2 for this purpose...\n"
      ],
      "metadata": {
        "id": "HRlnMi1-u66_"
      }
    },
    {
      "cell_type": "code",
      "source": [
        "img_shape = (img_height, img_width, 3)\n",
        "\n",
        "base_model = tf.keras.applications.MobileNetV2(input_shape=img_shape,\n",
        "                                               include_top=False,\n",
        "                                               weights='imagenet')\n",
        "\n",
        "base_model.trainable = False"
      ],
      "metadata": {
        "execution": {
          "iopub.status.busy": "2023-04-05T11:54:44.15409Z",
          "iopub.execute_input": "2023-04-05T11:54:44.15479Z",
          "iopub.status.idle": "2023-04-05T11:54:45.368398Z",
          "shell.execute_reply.started": "2023-04-05T11:54:44.154749Z",
          "shell.execute_reply": "2023-04-05T11:54:45.367376Z"
        },
        "trusted": true,
        "id": "xQynwxhyu66_"
      },
      "execution_count": null,
      "outputs": []
    },
    {
      "cell_type": "markdown",
      "source": [
        "Notice how we set trainable to false in order to make sure model won’t make any changes to the weights of any layers that are already frozen during training.  \n",
        "We also exclude the top of the model since we will perform classification on our own."
      ],
      "metadata": {
        "id": "kpDBsNWAu66_"
      }
    },
    {
      "cell_type": "markdown",
      "source": [
        "# Creating Final Model  \n",
        "We now go ahead and create our final model which consists of the base model, and 3 more layers for performing convolution. The 2d output of the convolution layer is flattened and fed to a dense output layer to perform the classification."
      ],
      "metadata": {
        "id": "EjT9T-eCu67A"
      }
    },
    {
      "cell_type": "code",
      "source": [
        "model = tf.keras.Sequential([\n",
        "    base_model,\n",
        "    layers.Conv2D(32, 3, activation='relu'),\n",
        "    layers.Conv2D(64, 3, activation='relu'),\n",
        "    layers.Conv2D(128, 3, activation='relu'),\n",
        "    layers.Flatten(),\n",
        "    layers.Dense(len(class_names), activation= 'softmax')\n",
        "])"
      ],
      "metadata": {
        "execution": {
          "iopub.status.busy": "2023-04-05T11:54:45.37005Z",
          "iopub.execute_input": "2023-04-05T11:54:45.370439Z",
          "iopub.status.idle": "2023-04-05T11:54:45.774177Z",
          "shell.execute_reply.started": "2023-04-05T11:54:45.370402Z",
          "shell.execute_reply": "2023-04-05T11:54:45.773014Z"
        },
        "trusted": true,
        "id": "kGDMm9aJu67A"
      },
      "execution_count": null,
      "outputs": []
    },
    {
      "cell_type": "code",
      "source": [
        "model.compile(optimizer='adam',loss='sparse_categorical_crossentropy', metrics=['accuracy'])"
      ],
      "metadata": {
        "execution": {
          "iopub.status.busy": "2023-04-05T11:54:45.775728Z",
          "iopub.execute_input": "2023-04-05T11:54:45.776107Z",
          "iopub.status.idle": "2023-04-05T11:54:45.793647Z",
          "shell.execute_reply.started": "2023-04-05T11:54:45.776069Z",
          "shell.execute_reply": "2023-04-05T11:54:45.792501Z"
        },
        "trusted": true,
        "id": "P7tKTN2uu67A"
      },
      "execution_count": null,
      "outputs": []
    },
    {
      "cell_type": "markdown",
      "source": [
        "We'll let our model run for 50 epochs, which seems like a decent enough number. Increasing the epochs should result in an increase in accuracy uptil a certain point only though..."
      ],
      "metadata": {
        "id": "aCbJOhryu67A"
      }
    },
    {
      "cell_type": "code",
      "source": [
        "history = model.fit(training_ds, validation_data = validation_ds, epochs = 50)"
      ],
      "metadata": {
        "execution": {
          "iopub.status.busy": "2023-04-05T11:54:45.79532Z",
          "iopub.execute_input": "2023-04-05T11:54:45.7959Z",
          "iopub.status.idle": "2023-04-05T11:56:42.57015Z",
          "shell.execute_reply.started": "2023-04-05T11:54:45.795862Z",
          "shell.execute_reply": "2023-04-05T11:56:42.569041Z"
        },
        "trusted": true,
        "id": "vlwEM8KAu67A"
      },
      "execution_count": null,
      "outputs": []
    },
    {
      "cell_type": "code",
      "source": [
        "plt.plot(history.history['loss'], label = 'training loss')\n",
        "plt.plot(history.history['accuracy'], label = 'training accuracy')\n",
        "plt.grid(True)\n",
        "plt.legend()"
      ],
      "metadata": {
        "execution": {
          "iopub.status.busy": "2023-04-05T11:56:42.571552Z",
          "iopub.execute_input": "2023-04-05T11:56:42.572425Z",
          "iopub.status.idle": "2023-04-05T11:56:42.842488Z",
          "shell.execute_reply.started": "2023-04-05T11:56:42.572384Z",
          "shell.execute_reply": "2023-04-05T11:56:42.841506Z"
        },
        "trusted": true,
        "id": "9-9oQSBIu67A"
      },
      "execution_count": null,
      "outputs": []
    },
    {
      "cell_type": "code",
      "source": [
        "plt.plot(history.history['val_loss'], label = 'validation loss')\n",
        "plt.plot(history.history['val_accuracy'], label = 'validation accuracy')\n",
        "plt.grid(True)\n",
        "plt.legend()"
      ],
      "metadata": {
        "execution": {
          "iopub.status.busy": "2023-04-05T11:56:42.846642Z",
          "iopub.execute_input": "2023-04-05T11:56:42.846938Z",
          "iopub.status.idle": "2023-04-05T11:56:43.09917Z",
          "shell.execute_reply.started": "2023-04-05T11:56:42.846909Z",
          "shell.execute_reply": "2023-04-05T11:56:43.098165Z"
        },
        "trusted": true,
        "id": "wxlfdVCFu67B"
      },
      "execution_count": null,
      "outputs": []
    },
    {
      "cell_type": "markdown",
      "source": [
        "The function below looks a bit complicated, but is a simple helper function which shows the image, the predicted class and the actual class for each image in the test dataset. Run it and have a look at how accurate the model seems and where it seems to be struggling."
      ],
      "metadata": {
        "id": "0d2pym0Au67B"
      }
    },
    {
      "cell_type": "code",
      "source": [
        "AccuracyVector = []\n",
        "plt.figure(figsize=(40, 40))\n",
        "for images, labels in testing_ds.take(1):\n",
        "    predictions = model.predict(images)\n",
        "    predlabel = []\n",
        "    prdlbl = []\n",
        "\n",
        "    for mem in predictions:\n",
        "        predlabel.append(class_names[np.argmax(mem)])\n",
        "        prdlbl.append(np.argmax(mem))\n",
        "\n",
        "    AccuracyVector = np.array(prdlbl) == labels\n",
        "    for i in range(40):\n",
        "        ax = plt.subplot(10, 4, i + 1)\n",
        "        plt.imshow(images[i].numpy().astype(\"uint8\"))\n",
        "        plt.title('Pred: '+ predlabel[i]+' actl:'+class_names[labels[i]] )\n",
        "        plt.axis('off')\n",
        "        plt.grid(True)"
      ],
      "metadata": {
        "execution": {
          "iopub.status.busy": "2023-04-05T11:56:43.10047Z",
          "iopub.execute_input": "2023-04-05T11:56:43.100842Z",
          "iopub.status.idle": "2023-04-05T11:56:48.80346Z",
          "shell.execute_reply.started": "2023-04-05T11:56:43.100802Z",
          "shell.execute_reply": "2023-04-05T11:56:48.802025Z"
        },
        "trusted": true,
        "id": "1Twj2sWUu67B"
      },
      "execution_count": null,
      "outputs": []
    },
    {
      "cell_type": "code",
      "source": [
        "truePositive=0\n",
        "trueNegative=0\n",
        "falsePositive=0\n",
        "falseNegative=0\n",
        "#positive event is accident negative event is non accident\n",
        "for i in range(0,100):\n",
        "    if(predlabel[i]==class_names[labels[i]] and predlabel[i]=='Accident'):\n",
        "        truePositive+=1\n",
        "    elif(predlabel[i]==class_names[labels[i]] and predlabel[i]=='Non Accident'):\n",
        "        trueNegative+=1\n",
        "    elif(predlabel[i]=='Non Accident' and class_names[labels[i]]=='Accident'):\n",
        "        falseNegative+=1\n",
        "    else:\n",
        "        falsePositive+=1"
      ],
      "metadata": {
        "execution": {
          "iopub.status.busy": "2023-04-05T12:12:22.776067Z",
          "iopub.execute_input": "2023-04-05T12:12:22.776798Z",
          "iopub.status.idle": "2023-04-05T12:12:22.81507Z",
          "shell.execute_reply.started": "2023-04-05T12:12:22.77676Z",
          "shell.execute_reply": "2023-04-05T12:12:22.814085Z"
        },
        "trusted": true,
        "id": "hxE9z3hau67B"
      },
      "execution_count": null,
      "outputs": []
    },
    {
      "cell_type": "code",
      "source": [
        "print(f'True positives are: {truePositive}')\n",
        "print(f'True negatives are: {trueNegative}')\n",
        "print(f'False negatives are: {falseNegative}')\n",
        "print(f'False positives are: {falsePositive}')"
      ],
      "metadata": {
        "execution": {
          "iopub.status.busy": "2023-04-05T12:16:08.471439Z",
          "iopub.execute_input": "2023-04-05T12:16:08.471811Z",
          "iopub.status.idle": "2023-04-05T12:16:08.47805Z",
          "shell.execute_reply.started": "2023-04-05T12:16:08.471778Z",
          "shell.execute_reply": "2023-04-05T12:16:08.476876Z"
        },
        "trusted": true,
        "id": "toE_W86Nu67B"
      },
      "execution_count": null,
      "outputs": []
    },
    {
      "cell_type": "markdown",
      "source": [
        "We can go ahead and view the models layers through the plot_model function below provided by keras for an intuitive view."
      ],
      "metadata": {
        "id": "F5hMe_zeu67B"
      }
    },
    {
      "cell_type": "code",
      "source": [
        "from keras.utils.vis_utils import plot_model\n",
        "plot_model(model, to_file='model_plot.png', show_shapes=True, show_layer_names=True)"
      ],
      "metadata": {
        "execution": {
          "iopub.status.busy": "2023-04-05T11:56:48.804927Z",
          "iopub.execute_input": "2023-04-05T11:56:48.805492Z",
          "iopub.status.idle": "2023-04-05T11:56:49.514501Z",
          "shell.execute_reply.started": "2023-04-05T11:56:48.80543Z",
          "shell.execute_reply": "2023-04-05T11:56:49.513211Z"
        },
        "trusted": true,
        "id": "1zaTxztPu67B"
      },
      "execution_count": null,
      "outputs": []
    },
    {
      "cell_type": "markdown",
      "source": [
        "And thats all! We've successfully creating a model with an accuracy of around 90%. Notice that this can be further improved by performing image manipulation, performing pooling and training our model for a longer epoch or even adding more layers.. However, for our use case, this model we created is perfectly fine.  "
      ],
      "metadata": {
        "id": "AZrvM2g8u67B"
      }
    },
    {
      "cell_type": "code",
      "source": [
        "print(class_names)"
      ],
      "metadata": {
        "execution": {
          "iopub.status.busy": "2023-04-05T11:56:49.516533Z",
          "iopub.execute_input": "2023-04-05T11:56:49.517204Z",
          "iopub.status.idle": "2023-04-05T11:56:49.523279Z",
          "shell.execute_reply.started": "2023-04-05T11:56:49.517156Z",
          "shell.execute_reply": "2023-04-05T11:56:49.521976Z"
        },
        "trusted": true,
        "id": "rQuSvlDOu67B"
      },
      "execution_count": null,
      "outputs": []
    },
    {
      "cell_type": "markdown",
      "source": [
        "# Testing Model on Videos  \n",
        "In order to use our model on a video, which is our expected use case of a CCTV footage, we will have to use OpenCV in order get the individual frames.  \n",
        "Lets define a function which takes in each frame and converts it into a tensor and then predicts the output class."
      ],
      "metadata": {
        "id": "OLkvvqHwu67C"
      }
    },
    {
      "cell_type": "code",
      "source": [
        "def predict_frame(img):\n",
        "    img_array = tf.keras.utils.img_to_array(img)\n",
        "    img_batch = np.expand_dims(img_array, axis=0)\n",
        "    prediction=(model.predict(img_batch) > 0.5).astype(\"int32\")\n",
        "    if(prediction[0][0]==0):\n",
        "        return(\"Accident Detected\")\n",
        "    else:\n",
        "        return(\"No Accident\")\n",
        ""
      ],
      "metadata": {
        "execution": {
          "iopub.status.busy": "2023-04-05T11:56:49.524897Z",
          "iopub.execute_input": "2023-04-05T11:56:49.525533Z",
          "iopub.status.idle": "2023-04-05T11:56:49.533911Z",
          "shell.execute_reply.started": "2023-04-05T11:56:49.525495Z",
          "shell.execute_reply": "2023-04-05T11:56:49.532937Z"
        },
        "trusted": true,
        "id": "KCeFz1o9u67C"
      },
      "execution_count": null,
      "outputs": []
    },
    {
      "cell_type": "markdown",
      "source": [
        "The following code below makes use of OpenCV. Firstly, we read the video in and grab every 20th frame(in order to reduce total computation for this demonstration) and then we can resize the image and run our function on it.  \n",
        "We'll store the label and the image in a list which we can easily access."
      ],
      "metadata": {
        "id": "ijXlgWDdu67C"
      }
    },
    {
      "cell_type": "code",
      "source": [
        "import cv2\n",
        "image=[]\n",
        "label=[]\n",
        "\n",
        "c=1\n",
        "cap= cv2.VideoCapture('/kaggle/input/cctvfootagevideo/videoplayback (online-video-cutter.com).mp4')\n",
        "while True:\n",
        "    grabbed, frame = cap.read()\n",
        "    if c%30==0:\n",
        "        print(c)\n",
        "        resized_frame=tf.keras.preprocessing.image.smart_resize(frame, (img_height, img_width), interpolation='bilinear')\n",
        "        image.append(frame)\n",
        "        label.append(predict_frame(resized_frame))\n",
        "        if(len(image)==75):\n",
        "            break\n",
        "    c+=1\n",
        "\n",
        "cap.release()"
      ],
      "metadata": {
        "execution": {
          "iopub.status.busy": "2023-04-05T11:56:49.535503Z",
          "iopub.execute_input": "2023-04-05T11:56:49.536207Z",
          "iopub.status.idle": "2023-04-05T11:56:56.975669Z",
          "shell.execute_reply.started": "2023-04-05T11:56:49.536169Z",
          "shell.execute_reply": "2023-04-05T11:56:56.974693Z"
        },
        "trusted": true,
        "id": "y8Sbrw-Hu67C"
      },
      "execution_count": null,
      "outputs": []
    },
    {
      "cell_type": "markdown",
      "source": [
        "Lets see any random frame and see what the outcome is..."
      ],
      "metadata": {
        "id": "uvxyZagBu67C"
      }
    },
    {
      "cell_type": "code",
      "source": [
        "print(label[20])\n",
        "print(plt.imshow(image[20]))"
      ],
      "metadata": {
        "execution": {
          "iopub.status.busy": "2023-04-05T11:56:56.977339Z",
          "iopub.execute_input": "2023-04-05T11:56:56.97796Z",
          "iopub.status.idle": "2023-04-05T11:56:57.308453Z",
          "shell.execute_reply.started": "2023-04-05T11:56:56.977921Z",
          "shell.execute_reply": "2023-04-05T11:56:57.30751Z"
        },
        "trusted": true,
        "id": "szfd5unDu67C"
      },
      "execution_count": null,
      "outputs": []
    },
    {
      "cell_type": "markdown",
      "source": [
        "Looks about right! There seems to be an accident occuring in this frame. Our model generalizes well and can be used for practical applications."
      ],
      "metadata": {
        "id": "_ir2u6_Su67C"
      }
    },
    {
      "cell_type": "markdown",
      "source": [
        "# Converting to TFLite Model  \n",
        "While we've made our model, it is true that Tensor Flow models are very large and bulky and not suitable for the small processing powers that a CCTV surveillance system will handle. For this purpose, we'll convert our Tf model into a TFLite model through the API's available by keras."
      ],
      "metadata": {
        "id": "H6HM-Hfwu67C"
      }
    },
    {
      "cell_type": "code",
      "source": [
        "# Convert the model.\n",
        "converter = tf.lite.TFLiteConverter.from_keras_model(model)\n",
        "tflite_model = converter.convert()\n",
        "\n",
        "# Save the model.\n",
        "with open('tf_lite_model.tflite', 'wb') as f:\n",
        "    f.write(tflite_model)"
      ],
      "metadata": {
        "execution": {
          "iopub.status.busy": "2023-04-05T11:56:57.310062Z",
          "iopub.execute_input": "2023-04-05T11:56:57.310674Z",
          "iopub.status.idle": "2023-04-05T11:57:31.114174Z",
          "shell.execute_reply.started": "2023-04-05T11:56:57.310622Z",
          "shell.execute_reply": "2023-04-05T11:57:31.112918Z"
        },
        "trusted": true,
        "id": "yEAzzIvVu67C"
      },
      "execution_count": null,
      "outputs": []
    },
    {
      "cell_type": "markdown",
      "source": [
        "A TFLite model is referred to as an interpreter. We open it up and have a look at the input and output shape. It should be a single image of height and width 250 by 250 with 3 colour channels.  \n",
        "The output can be of 2 types only. Accident or Non Accident."
      ],
      "metadata": {
        "id": "Q1_AGya3u67D"
      }
    },
    {
      "cell_type": "code",
      "source": [
        "interpreter = tf.lite.Interpreter(model_path = 'tf_lite_model.tflite')\n",
        "input_details = interpreter.get_input_details()\n",
        "output_details = interpreter.get_output_details()\n",
        "print(\"Input Shape:\", input_details[0]['shape'])\n",
        "print(\"Input Type:\", input_details[0]['dtype'])\n",
        "print(\"Output Shape:\", output_details[0]['shape'])\n",
        "print(\"Output Type:\", output_details[0]['dtype'])"
      ],
      "metadata": {
        "execution": {
          "iopub.status.busy": "2023-04-05T11:57:31.115777Z",
          "iopub.execute_input": "2023-04-05T11:57:31.116198Z",
          "iopub.status.idle": "2023-04-05T11:57:31.152774Z",
          "shell.execute_reply.started": "2023-04-05T11:57:31.116153Z",
          "shell.execute_reply": "2023-04-05T11:57:31.151731Z"
        },
        "trusted": true,
        "id": "JlXqi05Gu67D"
      },
      "execution_count": null,
      "outputs": []
    },
    {
      "cell_type": "markdown",
      "source": [
        "While the steps below aren't necessary, I'll still show you incase you have to perform a similair task for a different model where the input tensor might change or be different."
      ],
      "metadata": {
        "id": "qlhnMPUPu67D"
      }
    },
    {
      "cell_type": "code",
      "source": [
        "interpreter.resize_tensor_input(input_details[0]['index'], (1, 250, 250,3))\n",
        "interpreter.resize_tensor_input(output_details[0]['index'], (1, 2))\n",
        "interpreter.allocate_tensors()\n",
        "input_details = interpreter.get_input_details()\n",
        "output_details = interpreter.get_output_details()\n",
        "print(\"Input Shape:\", input_details[0]['shape'])\n",
        "print(\"Input Type:\", input_details[0]['dtype'])\n",
        "print(\"Output Shape:\", output_details[0]['shape'])\n",
        "print(\"Output Type:\", output_details[0]['dtype'])"
      ],
      "metadata": {
        "execution": {
          "iopub.status.busy": "2023-04-05T11:57:31.15451Z",
          "iopub.execute_input": "2023-04-05T11:57:31.15559Z",
          "iopub.status.idle": "2023-04-05T11:57:31.180218Z",
          "shell.execute_reply.started": "2023-04-05T11:57:31.155547Z",
          "shell.execute_reply": "2023-04-05T11:57:31.17843Z"
        },
        "trusted": true,
        "id": "FWle2SREu67D"
      },
      "execution_count": null,
      "outputs": []
    },
    {
      "cell_type": "markdown",
      "source": [
        "# Trying Our TFLite Model Out  \n",
        "We'll try our TFLite model on a random image and see what our output is and if it works."
      ],
      "metadata": {
        "id": "ECW4YGxEu67G"
      }
    },
    {
      "cell_type": "code",
      "source": [
        "from PIL import Image\n",
        "im=Image.open(\"/kaggle/input/accident-detection-from-cctv-footage/data/train/Non Accident/5_17.jpg\").resize((250,250))\n",
        "img_array = tf.keras.utils.img_to_array(im)\n",
        "img_batch = np.expand_dims(img_array, axis=0)"
      ],
      "metadata": {
        "execution": {
          "iopub.status.busy": "2023-04-05T11:57:31.182313Z",
          "iopub.execute_input": "2023-04-05T11:57:31.183091Z",
          "iopub.status.idle": "2023-04-05T11:57:31.203991Z",
          "shell.execute_reply.started": "2023-04-05T11:57:31.183049Z",
          "shell.execute_reply": "2023-04-05T11:57:31.203044Z"
        },
        "trusted": true,
        "id": "nMQUUp_cu67H"
      },
      "execution_count": null,
      "outputs": []
    },
    {
      "cell_type": "markdown",
      "source": [
        "The below lines are equivalent to performing a prediction in a TF model. *interpretor.get_tensor(*) performs the prediction."
      ],
      "metadata": {
        "id": "LTkNPa-lu67H"
      }
    },
    {
      "cell_type": "code",
      "source": [
        "interpreter.set_tensor(input_details[0]['index'], img_batch)\n",
        "interpreter.invoke()\n",
        "tflite_model_predictions = interpreter.get_tensor(output_details[0]['index'])\n",
        "print(\"Prediction results:\", tflite_model_predictions[0][1])\n",
        "print(plt.imshow(im))"
      ],
      "metadata": {
        "execution": {
          "iopub.status.busy": "2023-04-05T11:57:31.205593Z",
          "iopub.execute_input": "2023-04-05T11:57:31.205977Z",
          "iopub.status.idle": "2023-04-05T11:57:31.50701Z",
          "shell.execute_reply.started": "2023-04-05T11:57:31.205939Z",
          "shell.execute_reply": "2023-04-05T11:57:31.506045Z"
        },
        "trusted": true,
        "id": "O46dGQZuu67H"
      },
      "execution_count": null,
      "outputs": []
    },
    {
      "cell_type": "markdown",
      "source": [
        "It works. We've got a complete end to end system for accident detection now that should work very well indeed."
      ],
      "metadata": {
        "id": "8Upcemm7u67H"
      }
    }
  ]
}